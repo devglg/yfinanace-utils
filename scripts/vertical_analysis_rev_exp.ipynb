{
 "cells": [
  {
   "cell_type": "code",
   "execution_count": 1,
   "metadata": {},
   "outputs": [
    {
     "name": "stderr",
     "output_type": "stream",
     "text": [
      "/Users/xtra/Documents/GitHub/yfinance_utils/.venv/lib/python3.9/site-packages/urllib3/__init__.py:35: NotOpenSSLWarning: urllib3 v2 only supports OpenSSL 1.1.1+, currently the 'ssl' module is compiled with 'LibreSSL 2.8.3'. See: https://github.com/urllib3/urllib3/issues/3020\n",
      "  warnings.warn(\n"
     ]
    }
   ],
   "source": [
    "import yfinance\n",
    "from yfinance_utils import constants\n",
    "\n",
    "tick = \"avgo\"\n",
    "t = yfinance.Ticker(tick.upper())\n",
    "data = t.get_income_stmt()"
   ]
  },
  {
   "cell_type": "code",
   "execution_count": 2,
   "metadata": {},
   "outputs": [
    {
     "name": "stdout",
     "output_type": "stream",
     "text": [
      "               ITEM  PERIOD1  PERIOD2  PERIOD3  PERIOD4\n",
      "0      TotalRevenue      100      100      100      100\n",
      "1  OperatingRevenue      100      100      100      100\n",
      "2    InterestIncome        1        0        0        0\n",
      "3   OperatingIncome       46       43       32       18\n",
      "4      PretaxIncome       42       37       25       10\n"
     ]
    },
    {
     "name": "stderr",
     "output_type": "stream",
     "text": [
      "/var/folders/jl/tf4z23_x5291rxghg2wxrh780000gn/T/ipykernel_8309/4061797334.py:31: FutureWarning: The behavior of DataFrame concatenation with empty or all-NA entries is deprecated. In a future version, this will no longer exclude empty or all-NA columns when determining the result dtypes. To retain the old behavior, exclude the relevant entries before the concat operation.\n",
      "  out_rev = pd.concat([out_rev, tmp], ignore_index=True)\n"
     ]
    }
   ],
   "source": [
    "import pandas as pd\n",
    "pd.options.display.float_format = '{:.0f}'.format\n",
    "\n",
    "income_stmt_items_rev = [\n",
    "    \"TotalRevenue\",\n",
    "    \"OperatingRevenue\",\n",
    "    \"InterestIncome\",\n",
    "    \"OperatingIncome\",\n",
    "    'PretaxIncome'\n",
    "]\n",
    "\n",
    "COLUMNS = [\"ITEM\", 'PERIOD1', 'PERIOD2',  'PERIOD3',  'PERIOD4']\n",
    "out_rev = pd.DataFrame(columns=COLUMNS)\n",
    "\n",
    "rev1 = data.loc['TotalRevenue'].iloc[0]\n",
    "rev2 = data.loc['TotalRevenue'].iloc[1]\n",
    "rev3 = data.loc['TotalRevenue'].iloc[2]\n",
    "rev4 = data.loc['TotalRevenue'].iloc[3]\n",
    "\n",
    "for i in income_stmt_items_rev:\n",
    "    p1 = data.loc[i].iloc[0]\n",
    "    p2 = data.loc[i].iloc[1]\n",
    "    p3 = data.loc[i].iloc[2]\n",
    "    p4 = data.loc[i].iloc[3]\n",
    "    pct1 = p1 / rev1 * 100\n",
    "    pct2 = p2 / rev2 * 100\n",
    "    pct3 = p3 / rev3 * 100\n",
    "    pct4 = p4 / rev4 * 100\n",
    "\n",
    "    tmp = pd.DataFrame([[i, pct1, pct2, pct3, pct4]], columns=COLUMNS)\n",
    "    out_rev = pd.concat([out_rev, tmp], ignore_index=True)\n",
    "\n",
    "print(out_rev.round(2))\n"
   ]
  },
  {
   "cell_type": "markdown",
   "metadata": {},
   "source": [
    "do expenses same way as revenues\n"
   ]
  },
  {
   "cell_type": "code",
   "execution_count": 3,
   "metadata": {},
   "outputs": [
    {
     "name": "stdout",
     "output_type": "stream",
     "text": [
      "                                                    2023-10-31  2022-10-31  \\\n",
      "TaxEffectOfUnusualItems                              -15611000   -16950000   \n",
      "TaxRateForCalcs                                              0           0   \n",
      "NormalizedEBITDA                                   20787000000 19381000000   \n",
      "TotalUnusualItems                                   -233000000  -226000000   \n",
      "TotalUnusualItemsExcludingGoodwill                  -233000000  -226000000   \n",
      "NetIncomeFromContinuingOperationNetMinorityInte... 14082000000 11495000000   \n",
      "ReconciledDepreciation                              3835000000  4984000000   \n",
      "ReconciledCostOfRevenue                             8688000000  7636000000   \n",
      "EBITDA                                             20554000000 19155000000   \n",
      "EBIT                                               16719000000 14171000000   \n",
      "NetInterestIncome                                  -1087000000 -1637000000   \n",
      "InterestExpense                                     1622000000  1737000000   \n",
      "InterestIncome                                       535000000   100000000   \n",
      "NormalizedIncome                                   14299389000 11704050000   \n",
      "NetIncomeFromContinuingAndDiscontinuedOperation    14082000000 11495000000   \n",
      "TotalExpenses                                      19368000000 18921000000   \n",
      "TotalOperatingIncomeAsReported                     16207000000 14225000000   \n",
      "DilutedAverageShares                                4270000000  4240601418   \n",
      "BasicAverageShares                                  4150000000  4100250544   \n",
      "DilutedEPS                                                   3           3   \n",
      "BasicEPS                                                     3           3   \n",
      "DilutedNIAvailtoComStockholders                    14082000000 11223000000   \n",
      "NetIncomeCommonStockholders                        14082000000 11223000000   \n",
      "PreferredStockDividends                                    NaN   272000000   \n",
      "NetIncome                                          14082000000 11495000000   \n",
      "MinorityInterests                                          NaN         NaN   \n",
      "NetIncomeIncludingNoncontrollingInterests          14082000000 11495000000   \n",
      "NetIncomeDiscontinuousOperations                           NaN           0   \n",
      "NetIncomeContinuousOperations                      14082000000 11495000000   \n",
      "TaxProvision                                        1015000000   939000000   \n",
      "PretaxIncome                                       15097000000 12434000000   \n",
      "OtherIncomeExpense                                  -267000000  -211000000   \n",
      "OtherNonOperatingIncomeExpenses                      -34000000    15000000   \n",
      "SpecialIncomeCharges                                -244000000   -57000000   \n",
      "OtherSpecialCharges                                        NaN         NaN   \n",
      "WriteOff                                                   NaN         NaN   \n",
      "RestructuringAndMergernAcquisition                   244000000    57000000   \n",
      "GainOnSaleOfSecurity                                  11000000  -169000000   \n",
      "NetNonOperatingInterestIncomeExpense               -1087000000 -1637000000   \n",
      "InterestExpenseNonOperating                         1622000000  1737000000   \n",
      "InterestIncomeNonOperating                           535000000   100000000   \n",
      "OperatingIncome                                    16451000000 14282000000   \n",
      "OperatingExpense                                    8239000000  7813000000   \n",
      "DepreciationAmortizationDepletionIncomeStatement    1394000000  1512000000   \n",
      "DepreciationAndAmortizationInIncomeStatement        1394000000  1512000000   \n",
      "Amortization                                        1394000000  1512000000   \n",
      "AmortizationOfIntangiblesIncomeStatement            1394000000  1512000000   \n",
      "ResearchAndDevelopment                              5253000000  4919000000   \n",
      "SellingGeneralAndAdministration                     1592000000  1382000000   \n",
      "GrossProfit                                        24690000000 22095000000   \n",
      "CostOfRevenue                                      11129000000 11108000000   \n",
      "TotalRevenue                                       35819000000 33203000000   \n",
      "OperatingRevenue                                   35819000000 33203000000   \n",
      "\n",
      "                                                    2021-10-31  2020-10-31  \n",
      "TaxEffectOfUnusualItems                                -196000   -10812000  \n",
      "TaxRateForCalcs                                              0           0  \n",
      "NormalizedEBITDA                                   14740000000 11176000000  \n",
      "TotalUnusualItems                                    -49000000   -51000000  \n",
      "TotalUnusualItemsExcludingGoodwill                   -49000000   -51000000  \n",
      "NetIncomeFromContinuingOperationNetMinorityInte...  6736000000  2961000000  \n",
      "ReconciledDepreciation                              6041000000  6905000000  \n",
      "ReconciledCostOfRevenue                             6541000000  5868000000  \n",
      "EBITDA                                             14691000000 11125000000  \n",
      "EBIT                                                8650000000  4220000000  \n",
      "NetInterestIncome                                  -1869000000 -1724000000  \n",
      "InterestExpense                                     1885000000  1777000000  \n",
      "InterestIncome                                        16000000    53000000  \n",
      "NormalizedIncome                                    6784804000  3001188000  \n",
      "NetIncomeFromContinuingAndDiscontinuedOperation     6736000000  2960000000  \n",
      "TotalExpenses                                      18783000000 19676000000  \n",
      "TotalOperatingIncomeAsReported                      8519000000  4014000000  \n",
      "DilutedAverageShares                                4300751793  4220551294  \n",
      "BasicAverageShares                                  4110275607  4030075107  \n",
      "DilutedEPS                                                   1           1  \n",
      "BasicEPS                                                     2           1  \n",
      "DilutedNIAvailtoComStockholders                     6437000000  2663000000  \n",
      "NetIncomeCommonStockholders                         6437000000  2663000000  \n",
      "PreferredStockDividends                              299000000   297000000  \n",
      "NetIncome                                           6736000000  2960000000  \n",
      "MinorityInterests                                          NaN           0  \n",
      "NetIncomeIncludingNoncontrollingInterests           6736000000  2960000000  \n",
      "NetIncomeDiscontinuousOperations                             0    -1000000  \n",
      "NetIncomeContinuousOperations                       6736000000  2961000000  \n",
      "TaxProvision                                          29000000  -518000000  \n",
      "PretaxIncome                                        6765000000  2443000000  \n",
      "OtherIncomeExpense                                   -33000000   -45000000  \n",
      "OtherNonOperatingIncomeExpenses                       16000000     6000000  \n",
      "SpecialIncomeCharges                                -148000000   -82000000  \n",
      "OtherSpecialCharges                                        NaN  -116000000  \n",
      "WriteOff                                                   NaN           0  \n",
      "RestructuringAndMergernAcquisition                   148000000   198000000  \n",
      "GainOnSaleOfSecurity                                  99000000    31000000  \n",
      "NetNonOperatingInterestIncomeExpense               -1869000000 -1724000000  \n",
      "InterestExpenseNonOperating                         1885000000  1777000000  \n",
      "InterestIncomeNonOperating                            16000000    53000000  \n",
      "OperatingIncome                                     8667000000  4212000000  \n",
      "OperatingExpense                                    8177000000  9304000000  \n",
      "DepreciationAmortizationDepletionIncomeStatement    1976000000  2401000000  \n",
      "DepreciationAndAmortizationInIncomeStatement        1976000000  2401000000  \n",
      "Amortization                                        1976000000  2401000000  \n",
      "AmortizationOfIntangiblesIncomeStatement            1976000000  2401000000  \n",
      "ResearchAndDevelopment                              4854000000  4968000000  \n",
      "SellingGeneralAndAdministration                     1347000000  1935000000  \n",
      "GrossProfit                                        16844000000 13516000000  \n",
      "CostOfRevenue                                      10606000000 10372000000  \n",
      "TotalRevenue                                       27450000000 23888000000  \n",
      "OperatingRevenue                                   27450000000 23888000000  \n"
     ]
    }
   ],
   "source": [
    "print(data)"
   ]
  },
  {
   "cell_type": "code",
   "execution_count": 4,
   "metadata": {},
   "outputs": [
    {
     "name": "stdout",
     "output_type": "stream",
     "text": [
      "                              ITEM  PERIOD1  PERIOD2  PERIOD3  PERIOD4\n",
      "0                     TotalRevenue      100      100      100      100\n",
      "1                  InterestExpense        5        5        7        7\n",
      "2                    TotalExpenses       54       57       68       82\n",
      "3                 OperatingExpense       23       24       30       39\n",
      "4           ReconciledDepreciation       11       15       22       29\n",
      "5                    CostOfRevenue       31       33       39       43\n",
      "6  SellingGeneralAndAdministration        4        4        5        8\n"
     ]
    },
    {
     "name": "stderr",
     "output_type": "stream",
     "text": [
      "/var/folders/jl/tf4z23_x5291rxghg2wxrh780000gn/T/ipykernel_8309/2026587477.py:35: FutureWarning: The behavior of DataFrame concatenation with empty or all-NA entries is deprecated. In a future version, this will no longer exclude empty or all-NA columns when determining the result dtypes. To retain the old behavior, exclude the relevant entries before the concat operation.\n",
      "  out_exp = pd.concat([out_exp, tmp], ignore_index=True)\n"
     ]
    }
   ],
   "source": [
    "import pandas as pd\n",
    "pd.options.display.float_format = '{:.0f}'.format\n",
    "\n",
    "income_stmt_items_exp = [\n",
    "    \"TotalRevenue\",\n",
    "    'InterestExpense',\n",
    "    'TotalExpenses',\n",
    "    'OperatingExpense',\n",
    "    'ReconciledDepreciation',\n",
    "    'CostOfRevenue',\n",
    "    'SellingGeneralAndAdministration'\n",
    "    # 'SellingAndMarketingExpense',\n",
    "    # 'GeneralAndAdministrativeExpense',\n",
    "    # 'OtherGandA'\n",
    "]\n",
    "COLUMNS = [\"ITEM\", 'PERIOD1', 'PERIOD2', 'PERIOD3', 'PERIOD4']\n",
    "out_exp = pd.DataFrame(columns=COLUMNS)\n",
    "\n",
    "rev1 = data.loc['TotalRevenue'].iloc[0]\n",
    "rev2 = data.loc['TotalRevenue'].iloc[1]\n",
    "rev3 = data.loc['TotalRevenue'].iloc[2]\n",
    "rev4 = data.loc['TotalRevenue'].iloc[3]\n",
    "\n",
    "for i in income_stmt_items_exp:\n",
    "    p1 = data.loc[i].iloc[0]\n",
    "    p2 = data.loc[i].iloc[1]\n",
    "    p3 = data.loc[i].iloc[2]\n",
    "    p4 = data.loc[i].iloc[3]\n",
    "    pct1 = p1 / rev1 * 100\n",
    "    pct2 = p2 / rev2 * 100\n",
    "    pct3 = p3 / rev3 * 100\n",
    "    pct4 = p4 / rev4 * 100\n",
    "\n",
    "    tmp = pd.DataFrame([[i, pct1, pct2,pct3, pct4]], columns=COLUMNS)\n",
    "    out_exp = pd.concat([out_exp, tmp], ignore_index=True)\n",
    "\n",
    "print(out_exp.round(2))"
   ]
  },
  {
   "cell_type": "markdown",
   "metadata": {},
   "source": [
    "try to plot the data for rev and expenses.\n",
    "\n",
    "DO NOT RERUN THE SETINDEX ITEM BELOW"
   ]
  },
  {
   "cell_type": "code",
   "execution_count": 9,
   "metadata": {},
   "outputs": [],
   "source": [
    "import plotly.express as px\n",
    "import plotly.graph_objects as go\n",
    "from plotly.subplots import make_subplots\n",
    "# out_rev.set_index('ITEM', inplace=True)\n",
    "# out_exp.set_index('ITEM', inplace=True)\n"
   ]
  },
  {
   "cell_type": "code",
   "execution_count": 10,
   "metadata": {},
   "outputs": [
    {
     "data": {
      "application/vnd.plotly.v1+json": {
       "config": {
        "plotlyServerURL": "https://plot.ly"
       },
       "data": [
        {
         "name": "TotalRevenue",
         "type": "scatter",
         "x": [
          "PERIOD1",
          "PERIOD2",
          "PERIOD3",
          "PERIOD4"
         ],
         "xaxis": "x",
         "y": [
          100,
          100,
          100,
          100
         ],
         "yaxis": "y"
        },
        {
         "name": "OperatingRevenue",
         "type": "scatter",
         "x": [
          "PERIOD1",
          "PERIOD2",
          "PERIOD3",
          "PERIOD4"
         ],
         "xaxis": "x",
         "y": [
          100,
          100,
          100,
          100
         ],
         "yaxis": "y"
        },
        {
         "name": "InterestIncome",
         "type": "scatter",
         "x": [
          "PERIOD1",
          "PERIOD2",
          "PERIOD3",
          "PERIOD4"
         ],
         "xaxis": "x",
         "y": [
          1.4936207040955918,
          0.3011776044333343,
          0.058287795992714025,
          0.2218687206965841
         ],
         "yaxis": "y2"
        },
        {
         "name": "OperatingIncome",
         "type": "scatter",
         "x": [
          "PERIOD1",
          "PERIOD2",
          "PERIOD3",
          "PERIOD4"
         ],
         "xaxis": "x",
         "y": [
          45.9281386973394,
          43.01418546516881,
          31.573770491803277,
          17.632283991962492
         ],
         "yaxis": "y"
        },
        {
         "name": "PretaxIncome",
         "type": "scatter",
         "x": [
          "PERIOD1",
          "PERIOD2",
          "PERIOD3",
          "PERIOD4"
         ],
         "xaxis": "x",
         "y": [
          42.14802199949747,
          37.4484233352408,
          24.6448087431694,
          10.226892163429337
         ],
         "yaxis": "y"
        }
       ],
       "layout": {
        "template": {
         "data": {
          "bar": [
           {
            "error_x": {
             "color": "#2a3f5f"
            },
            "error_y": {
             "color": "#2a3f5f"
            },
            "marker": {
             "line": {
              "color": "#E5ECF6",
              "width": 0.5
             },
             "pattern": {
              "fillmode": "overlay",
              "size": 10,
              "solidity": 0.2
             }
            },
            "type": "bar"
           }
          ],
          "barpolar": [
           {
            "marker": {
             "line": {
              "color": "#E5ECF6",
              "width": 0.5
             },
             "pattern": {
              "fillmode": "overlay",
              "size": 10,
              "solidity": 0.2
             }
            },
            "type": "barpolar"
           }
          ],
          "carpet": [
           {
            "aaxis": {
             "endlinecolor": "#2a3f5f",
             "gridcolor": "white",
             "linecolor": "white",
             "minorgridcolor": "white",
             "startlinecolor": "#2a3f5f"
            },
            "baxis": {
             "endlinecolor": "#2a3f5f",
             "gridcolor": "white",
             "linecolor": "white",
             "minorgridcolor": "white",
             "startlinecolor": "#2a3f5f"
            },
            "type": "carpet"
           }
          ],
          "choropleth": [
           {
            "colorbar": {
             "outlinewidth": 0,
             "ticks": ""
            },
            "type": "choropleth"
           }
          ],
          "contour": [
           {
            "colorbar": {
             "outlinewidth": 0,
             "ticks": ""
            },
            "colorscale": [
             [
              0,
              "#0d0887"
             ],
             [
              0.1111111111111111,
              "#46039f"
             ],
             [
              0.2222222222222222,
              "#7201a8"
             ],
             [
              0.3333333333333333,
              "#9c179e"
             ],
             [
              0.4444444444444444,
              "#bd3786"
             ],
             [
              0.5555555555555556,
              "#d8576b"
             ],
             [
              0.6666666666666666,
              "#ed7953"
             ],
             [
              0.7777777777777778,
              "#fb9f3a"
             ],
             [
              0.8888888888888888,
              "#fdca26"
             ],
             [
              1,
              "#f0f921"
             ]
            ],
            "type": "contour"
           }
          ],
          "contourcarpet": [
           {
            "colorbar": {
             "outlinewidth": 0,
             "ticks": ""
            },
            "type": "contourcarpet"
           }
          ],
          "heatmap": [
           {
            "colorbar": {
             "outlinewidth": 0,
             "ticks": ""
            },
            "colorscale": [
             [
              0,
              "#0d0887"
             ],
             [
              0.1111111111111111,
              "#46039f"
             ],
             [
              0.2222222222222222,
              "#7201a8"
             ],
             [
              0.3333333333333333,
              "#9c179e"
             ],
             [
              0.4444444444444444,
              "#bd3786"
             ],
             [
              0.5555555555555556,
              "#d8576b"
             ],
             [
              0.6666666666666666,
              "#ed7953"
             ],
             [
              0.7777777777777778,
              "#fb9f3a"
             ],
             [
              0.8888888888888888,
              "#fdca26"
             ],
             [
              1,
              "#f0f921"
             ]
            ],
            "type": "heatmap"
           }
          ],
          "heatmapgl": [
           {
            "colorbar": {
             "outlinewidth": 0,
             "ticks": ""
            },
            "colorscale": [
             [
              0,
              "#0d0887"
             ],
             [
              0.1111111111111111,
              "#46039f"
             ],
             [
              0.2222222222222222,
              "#7201a8"
             ],
             [
              0.3333333333333333,
              "#9c179e"
             ],
             [
              0.4444444444444444,
              "#bd3786"
             ],
             [
              0.5555555555555556,
              "#d8576b"
             ],
             [
              0.6666666666666666,
              "#ed7953"
             ],
             [
              0.7777777777777778,
              "#fb9f3a"
             ],
             [
              0.8888888888888888,
              "#fdca26"
             ],
             [
              1,
              "#f0f921"
             ]
            ],
            "type": "heatmapgl"
           }
          ],
          "histogram": [
           {
            "marker": {
             "pattern": {
              "fillmode": "overlay",
              "size": 10,
              "solidity": 0.2
             }
            },
            "type": "histogram"
           }
          ],
          "histogram2d": [
           {
            "colorbar": {
             "outlinewidth": 0,
             "ticks": ""
            },
            "colorscale": [
             [
              0,
              "#0d0887"
             ],
             [
              0.1111111111111111,
              "#46039f"
             ],
             [
              0.2222222222222222,
              "#7201a8"
             ],
             [
              0.3333333333333333,
              "#9c179e"
             ],
             [
              0.4444444444444444,
              "#bd3786"
             ],
             [
              0.5555555555555556,
              "#d8576b"
             ],
             [
              0.6666666666666666,
              "#ed7953"
             ],
             [
              0.7777777777777778,
              "#fb9f3a"
             ],
             [
              0.8888888888888888,
              "#fdca26"
             ],
             [
              1,
              "#f0f921"
             ]
            ],
            "type": "histogram2d"
           }
          ],
          "histogram2dcontour": [
           {
            "colorbar": {
             "outlinewidth": 0,
             "ticks": ""
            },
            "colorscale": [
             [
              0,
              "#0d0887"
             ],
             [
              0.1111111111111111,
              "#46039f"
             ],
             [
              0.2222222222222222,
              "#7201a8"
             ],
             [
              0.3333333333333333,
              "#9c179e"
             ],
             [
              0.4444444444444444,
              "#bd3786"
             ],
             [
              0.5555555555555556,
              "#d8576b"
             ],
             [
              0.6666666666666666,
              "#ed7953"
             ],
             [
              0.7777777777777778,
              "#fb9f3a"
             ],
             [
              0.8888888888888888,
              "#fdca26"
             ],
             [
              1,
              "#f0f921"
             ]
            ],
            "type": "histogram2dcontour"
           }
          ],
          "mesh3d": [
           {
            "colorbar": {
             "outlinewidth": 0,
             "ticks": ""
            },
            "type": "mesh3d"
           }
          ],
          "parcoords": [
           {
            "line": {
             "colorbar": {
              "outlinewidth": 0,
              "ticks": ""
             }
            },
            "type": "parcoords"
           }
          ],
          "pie": [
           {
            "automargin": true,
            "type": "pie"
           }
          ],
          "scatter": [
           {
            "fillpattern": {
             "fillmode": "overlay",
             "size": 10,
             "solidity": 0.2
            },
            "type": "scatter"
           }
          ],
          "scatter3d": [
           {
            "line": {
             "colorbar": {
              "outlinewidth": 0,
              "ticks": ""
             }
            },
            "marker": {
             "colorbar": {
              "outlinewidth": 0,
              "ticks": ""
             }
            },
            "type": "scatter3d"
           }
          ],
          "scattercarpet": [
           {
            "marker": {
             "colorbar": {
              "outlinewidth": 0,
              "ticks": ""
             }
            },
            "type": "scattercarpet"
           }
          ],
          "scattergeo": [
           {
            "marker": {
             "colorbar": {
              "outlinewidth": 0,
              "ticks": ""
             }
            },
            "type": "scattergeo"
           }
          ],
          "scattergl": [
           {
            "marker": {
             "colorbar": {
              "outlinewidth": 0,
              "ticks": ""
             }
            },
            "type": "scattergl"
           }
          ],
          "scattermapbox": [
           {
            "marker": {
             "colorbar": {
              "outlinewidth": 0,
              "ticks": ""
             }
            },
            "type": "scattermapbox"
           }
          ],
          "scatterpolar": [
           {
            "marker": {
             "colorbar": {
              "outlinewidth": 0,
              "ticks": ""
             }
            },
            "type": "scatterpolar"
           }
          ],
          "scatterpolargl": [
           {
            "marker": {
             "colorbar": {
              "outlinewidth": 0,
              "ticks": ""
             }
            },
            "type": "scatterpolargl"
           }
          ],
          "scatterternary": [
           {
            "marker": {
             "colorbar": {
              "outlinewidth": 0,
              "ticks": ""
             }
            },
            "type": "scatterternary"
           }
          ],
          "surface": [
           {
            "colorbar": {
             "outlinewidth": 0,
             "ticks": ""
            },
            "colorscale": [
             [
              0,
              "#0d0887"
             ],
             [
              0.1111111111111111,
              "#46039f"
             ],
             [
              0.2222222222222222,
              "#7201a8"
             ],
             [
              0.3333333333333333,
              "#9c179e"
             ],
             [
              0.4444444444444444,
              "#bd3786"
             ],
             [
              0.5555555555555556,
              "#d8576b"
             ],
             [
              0.6666666666666666,
              "#ed7953"
             ],
             [
              0.7777777777777778,
              "#fb9f3a"
             ],
             [
              0.8888888888888888,
              "#fdca26"
             ],
             [
              1,
              "#f0f921"
             ]
            ],
            "type": "surface"
           }
          ],
          "table": [
           {
            "cells": {
             "fill": {
              "color": "#EBF0F8"
             },
             "line": {
              "color": "white"
             }
            },
            "header": {
             "fill": {
              "color": "#C8D4E3"
             },
             "line": {
              "color": "white"
             }
            },
            "type": "table"
           }
          ]
         },
         "layout": {
          "annotationdefaults": {
           "arrowcolor": "#2a3f5f",
           "arrowhead": 0,
           "arrowwidth": 1
          },
          "autotypenumbers": "strict",
          "coloraxis": {
           "colorbar": {
            "outlinewidth": 0,
            "ticks": ""
           }
          },
          "colorscale": {
           "diverging": [
            [
             0,
             "#8e0152"
            ],
            [
             0.1,
             "#c51b7d"
            ],
            [
             0.2,
             "#de77ae"
            ],
            [
             0.3,
             "#f1b6da"
            ],
            [
             0.4,
             "#fde0ef"
            ],
            [
             0.5,
             "#f7f7f7"
            ],
            [
             0.6,
             "#e6f5d0"
            ],
            [
             0.7,
             "#b8e186"
            ],
            [
             0.8,
             "#7fbc41"
            ],
            [
             0.9,
             "#4d9221"
            ],
            [
             1,
             "#276419"
            ]
           ],
           "sequential": [
            [
             0,
             "#0d0887"
            ],
            [
             0.1111111111111111,
             "#46039f"
            ],
            [
             0.2222222222222222,
             "#7201a8"
            ],
            [
             0.3333333333333333,
             "#9c179e"
            ],
            [
             0.4444444444444444,
             "#bd3786"
            ],
            [
             0.5555555555555556,
             "#d8576b"
            ],
            [
             0.6666666666666666,
             "#ed7953"
            ],
            [
             0.7777777777777778,
             "#fb9f3a"
            ],
            [
             0.8888888888888888,
             "#fdca26"
            ],
            [
             1,
             "#f0f921"
            ]
           ],
           "sequentialminus": [
            [
             0,
             "#0d0887"
            ],
            [
             0.1111111111111111,
             "#46039f"
            ],
            [
             0.2222222222222222,
             "#7201a8"
            ],
            [
             0.3333333333333333,
             "#9c179e"
            ],
            [
             0.4444444444444444,
             "#bd3786"
            ],
            [
             0.5555555555555556,
             "#d8576b"
            ],
            [
             0.6666666666666666,
             "#ed7953"
            ],
            [
             0.7777777777777778,
             "#fb9f3a"
            ],
            [
             0.8888888888888888,
             "#fdca26"
            ],
            [
             1,
             "#f0f921"
            ]
           ]
          },
          "colorway": [
           "#636efa",
           "#EF553B",
           "#00cc96",
           "#ab63fa",
           "#FFA15A",
           "#19d3f3",
           "#FF6692",
           "#B6E880",
           "#FF97FF",
           "#FECB52"
          ],
          "font": {
           "color": "#2a3f5f"
          },
          "geo": {
           "bgcolor": "white",
           "lakecolor": "white",
           "landcolor": "#E5ECF6",
           "showlakes": true,
           "showland": true,
           "subunitcolor": "white"
          },
          "hoverlabel": {
           "align": "left"
          },
          "hovermode": "closest",
          "mapbox": {
           "style": "light"
          },
          "paper_bgcolor": "white",
          "plot_bgcolor": "#E5ECF6",
          "polar": {
           "angularaxis": {
            "gridcolor": "white",
            "linecolor": "white",
            "ticks": ""
           },
           "bgcolor": "#E5ECF6",
           "radialaxis": {
            "gridcolor": "white",
            "linecolor": "white",
            "ticks": ""
           }
          },
          "scene": {
           "xaxis": {
            "backgroundcolor": "#E5ECF6",
            "gridcolor": "white",
            "gridwidth": 2,
            "linecolor": "white",
            "showbackground": true,
            "ticks": "",
            "zerolinecolor": "white"
           },
           "yaxis": {
            "backgroundcolor": "#E5ECF6",
            "gridcolor": "white",
            "gridwidth": 2,
            "linecolor": "white",
            "showbackground": true,
            "ticks": "",
            "zerolinecolor": "white"
           },
           "zaxis": {
            "backgroundcolor": "#E5ECF6",
            "gridcolor": "white",
            "gridwidth": 2,
            "linecolor": "white",
            "showbackground": true,
            "ticks": "",
            "zerolinecolor": "white"
           }
          },
          "shapedefaults": {
           "line": {
            "color": "#2a3f5f"
           }
          },
          "ternary": {
           "aaxis": {
            "gridcolor": "white",
            "linecolor": "white",
            "ticks": ""
           },
           "baxis": {
            "gridcolor": "white",
            "linecolor": "white",
            "ticks": ""
           },
           "bgcolor": "#E5ECF6",
           "caxis": {
            "gridcolor": "white",
            "linecolor": "white",
            "ticks": ""
           }
          },
          "title": {
           "x": 0.05
          },
          "xaxis": {
           "automargin": true,
           "gridcolor": "white",
           "linecolor": "white",
           "ticks": "",
           "title": {
            "standoff": 15
           },
           "zerolinecolor": "white",
           "zerolinewidth": 2
          },
          "yaxis": {
           "automargin": true,
           "gridcolor": "white",
           "linecolor": "white",
           "ticks": "",
           "title": {
            "standoff": 15
           },
           "zerolinecolor": "white",
           "zerolinewidth": 2
          }
         }
        },
        "title": {
         "text": "REVENUES AS PERCENTAGE OF TOTAL REVENUE",
         "x": 0.5
        },
        "xaxis": {
         "anchor": "y",
         "domain": [
          0,
          0.94
         ]
        },
        "yaxis": {
         "anchor": "x",
         "domain": [
          0,
          1
         ]
        },
        "yaxis2": {
         "anchor": "x",
         "overlaying": "y",
         "side": "right"
        }
       }
      }
     },
     "metadata": {},
     "output_type": "display_data"
    }
   ],
   "source": [
    "\n",
    "fig2 = make_subplots(specs=[[{\"secondary_y\": True}]])\n",
    "fig2.update_layout(title=\"REVENUES AS PERCENTAGE OF TOTAL REVENUE (dual axis)\", title_x=0.5,)\n",
    "\n",
    "for i in income_stmt_items_rev:\n",
    "    if i in ['GainOnSaleOfSecurity', 'InterestIncome']: \n",
    "        sec = True \n",
    "    else: \n",
    "        sec = False\n",
    "\n",
    "    fig2.add_trace(\n",
    "        go.Scatter(y=out_rev.loc[i], x=out_rev.columns, name=i),\n",
    "        secondary_y=sec,\n",
    "    )\n",
    "\n",
    "fig2.show()\n"
   ]
  },
  {
   "cell_type": "code",
   "execution_count": null,
   "metadata": {},
   "outputs": [
    {
     "data": {
      "application/vnd.plotly.v1+json": {
       "config": {
        "plotlyServerURL": "https://plot.ly"
       },
       "data": [
        {
         "name": "TotalRevenue",
         "type": "scatter",
         "x": [
          "PERIOD1",
          "PERIOD2",
          "PERIOD3",
          "PERIOD4"
         ],
         "xaxis": "x",
         "y": [
          100,
          100,
          100,
          100
         ],
         "yaxis": "y"
        },
        {
         "name": "InterestExpense",
         "type": "scatter",
         "x": [
          "PERIOD1",
          "PERIOD2",
          "PERIOD3",
          "PERIOD4"
         ],
         "xaxis": "x",
         "y": [
          4.528322957089813,
          5.231454989007017,
          6.8670309653916215,
          7.438881446751506
         ],
         "yaxis": "y2"
        },
        {
         "name": "TotalExpenses",
         "type": "scatter",
         "x": [
          "PERIOD1",
          "PERIOD2",
          "PERIOD3",
          "PERIOD4"
         ],
         "xaxis": "x",
         "y": [
          54.071861302660594,
          56.98581453483119,
          68.42622950819673,
          82.3677160080375
         ],
         "yaxis": "y"
        },
        {
         "name": "OperatingExpense",
         "type": "scatter",
         "x": [
          "PERIOD1",
          "PERIOD2",
          "PERIOD3",
          "PERIOD4"
         ],
         "xaxis": "x",
         "y": [
          23.00175884307211,
          23.531006234376413,
          29.78870673952641,
          38.948425987943736
         ],
         "yaxis": "y"
        },
        {
         "name": "ReconciledDepreciation",
         "type": "scatter",
         "x": [
          "PERIOD1",
          "PERIOD2",
          "PERIOD3",
          "PERIOD4"
         ],
         "xaxis": "x",
         "y": [
          10.706608224685223,
          15.010691804957382,
          22.007285974499087,
          28.905726724715336
         ],
         "yaxis": "y2"
        },
        {
         "name": "CostOfRevenue",
         "type": "scatter",
         "x": [
          "PERIOD1",
          "PERIOD2",
          "PERIOD3",
          "PERIOD4"
         ],
         "xaxis": "x",
         "y": [
          31.07010245958849,
          33.45480830045478,
          38.63752276867031,
          43.41929002009377
         ],
         "yaxis": "y"
        },
        {
         "name": "SellingGeneralAndAdministration",
         "type": "scatter",
         "x": [
          "PERIOD1",
          "PERIOD2",
          "PERIOD3",
          "PERIOD4"
         ],
         "xaxis": "x",
         "y": [
          4.444568525084453,
          4.162274493268681,
          4.907103825136612,
          8.100301406563966
         ],
         "yaxis": "y2"
        }
       ],
       "layout": {
        "template": {
         "data": {
          "bar": [
           {
            "error_x": {
             "color": "#2a3f5f"
            },
            "error_y": {
             "color": "#2a3f5f"
            },
            "marker": {
             "line": {
              "color": "#E5ECF6",
              "width": 0.5
             },
             "pattern": {
              "fillmode": "overlay",
              "size": 10,
              "solidity": 0.2
             }
            },
            "type": "bar"
           }
          ],
          "barpolar": [
           {
            "marker": {
             "line": {
              "color": "#E5ECF6",
              "width": 0.5
             },
             "pattern": {
              "fillmode": "overlay",
              "size": 10,
              "solidity": 0.2
             }
            },
            "type": "barpolar"
           }
          ],
          "carpet": [
           {
            "aaxis": {
             "endlinecolor": "#2a3f5f",
             "gridcolor": "white",
             "linecolor": "white",
             "minorgridcolor": "white",
             "startlinecolor": "#2a3f5f"
            },
            "baxis": {
             "endlinecolor": "#2a3f5f",
             "gridcolor": "white",
             "linecolor": "white",
             "minorgridcolor": "white",
             "startlinecolor": "#2a3f5f"
            },
            "type": "carpet"
           }
          ],
          "choropleth": [
           {
            "colorbar": {
             "outlinewidth": 0,
             "ticks": ""
            },
            "type": "choropleth"
           }
          ],
          "contour": [
           {
            "colorbar": {
             "outlinewidth": 0,
             "ticks": ""
            },
            "colorscale": [
             [
              0,
              "#0d0887"
             ],
             [
              0.1111111111111111,
              "#46039f"
             ],
             [
              0.2222222222222222,
              "#7201a8"
             ],
             [
              0.3333333333333333,
              "#9c179e"
             ],
             [
              0.4444444444444444,
              "#bd3786"
             ],
             [
              0.5555555555555556,
              "#d8576b"
             ],
             [
              0.6666666666666666,
              "#ed7953"
             ],
             [
              0.7777777777777778,
              "#fb9f3a"
             ],
             [
              0.8888888888888888,
              "#fdca26"
             ],
             [
              1,
              "#f0f921"
             ]
            ],
            "type": "contour"
           }
          ],
          "contourcarpet": [
           {
            "colorbar": {
             "outlinewidth": 0,
             "ticks": ""
            },
            "type": "contourcarpet"
           }
          ],
          "heatmap": [
           {
            "colorbar": {
             "outlinewidth": 0,
             "ticks": ""
            },
            "colorscale": [
             [
              0,
              "#0d0887"
             ],
             [
              0.1111111111111111,
              "#46039f"
             ],
             [
              0.2222222222222222,
              "#7201a8"
             ],
             [
              0.3333333333333333,
              "#9c179e"
             ],
             [
              0.4444444444444444,
              "#bd3786"
             ],
             [
              0.5555555555555556,
              "#d8576b"
             ],
             [
              0.6666666666666666,
              "#ed7953"
             ],
             [
              0.7777777777777778,
              "#fb9f3a"
             ],
             [
              0.8888888888888888,
              "#fdca26"
             ],
             [
              1,
              "#f0f921"
             ]
            ],
            "type": "heatmap"
           }
          ],
          "heatmapgl": [
           {
            "colorbar": {
             "outlinewidth": 0,
             "ticks": ""
            },
            "colorscale": [
             [
              0,
              "#0d0887"
             ],
             [
              0.1111111111111111,
              "#46039f"
             ],
             [
              0.2222222222222222,
              "#7201a8"
             ],
             [
              0.3333333333333333,
              "#9c179e"
             ],
             [
              0.4444444444444444,
              "#bd3786"
             ],
             [
              0.5555555555555556,
              "#d8576b"
             ],
             [
              0.6666666666666666,
              "#ed7953"
             ],
             [
              0.7777777777777778,
              "#fb9f3a"
             ],
             [
              0.8888888888888888,
              "#fdca26"
             ],
             [
              1,
              "#f0f921"
             ]
            ],
            "type": "heatmapgl"
           }
          ],
          "histogram": [
           {
            "marker": {
             "pattern": {
              "fillmode": "overlay",
              "size": 10,
              "solidity": 0.2
             }
            },
            "type": "histogram"
           }
          ],
          "histogram2d": [
           {
            "colorbar": {
             "outlinewidth": 0,
             "ticks": ""
            },
            "colorscale": [
             [
              0,
              "#0d0887"
             ],
             [
              0.1111111111111111,
              "#46039f"
             ],
             [
              0.2222222222222222,
              "#7201a8"
             ],
             [
              0.3333333333333333,
              "#9c179e"
             ],
             [
              0.4444444444444444,
              "#bd3786"
             ],
             [
              0.5555555555555556,
              "#d8576b"
             ],
             [
              0.6666666666666666,
              "#ed7953"
             ],
             [
              0.7777777777777778,
              "#fb9f3a"
             ],
             [
              0.8888888888888888,
              "#fdca26"
             ],
             [
              1,
              "#f0f921"
             ]
            ],
            "type": "histogram2d"
           }
          ],
          "histogram2dcontour": [
           {
            "colorbar": {
             "outlinewidth": 0,
             "ticks": ""
            },
            "colorscale": [
             [
              0,
              "#0d0887"
             ],
             [
              0.1111111111111111,
              "#46039f"
             ],
             [
              0.2222222222222222,
              "#7201a8"
             ],
             [
              0.3333333333333333,
              "#9c179e"
             ],
             [
              0.4444444444444444,
              "#bd3786"
             ],
             [
              0.5555555555555556,
              "#d8576b"
             ],
             [
              0.6666666666666666,
              "#ed7953"
             ],
             [
              0.7777777777777778,
              "#fb9f3a"
             ],
             [
              0.8888888888888888,
              "#fdca26"
             ],
             [
              1,
              "#f0f921"
             ]
            ],
            "type": "histogram2dcontour"
           }
          ],
          "mesh3d": [
           {
            "colorbar": {
             "outlinewidth": 0,
             "ticks": ""
            },
            "type": "mesh3d"
           }
          ],
          "parcoords": [
           {
            "line": {
             "colorbar": {
              "outlinewidth": 0,
              "ticks": ""
             }
            },
            "type": "parcoords"
           }
          ],
          "pie": [
           {
            "automargin": true,
            "type": "pie"
           }
          ],
          "scatter": [
           {
            "fillpattern": {
             "fillmode": "overlay",
             "size": 10,
             "solidity": 0.2
            },
            "type": "scatter"
           }
          ],
          "scatter3d": [
           {
            "line": {
             "colorbar": {
              "outlinewidth": 0,
              "ticks": ""
             }
            },
            "marker": {
             "colorbar": {
              "outlinewidth": 0,
              "ticks": ""
             }
            },
            "type": "scatter3d"
           }
          ],
          "scattercarpet": [
           {
            "marker": {
             "colorbar": {
              "outlinewidth": 0,
              "ticks": ""
             }
            },
            "type": "scattercarpet"
           }
          ],
          "scattergeo": [
           {
            "marker": {
             "colorbar": {
              "outlinewidth": 0,
              "ticks": ""
             }
            },
            "type": "scattergeo"
           }
          ],
          "scattergl": [
           {
            "marker": {
             "colorbar": {
              "outlinewidth": 0,
              "ticks": ""
             }
            },
            "type": "scattergl"
           }
          ],
          "scattermapbox": [
           {
            "marker": {
             "colorbar": {
              "outlinewidth": 0,
              "ticks": ""
             }
            },
            "type": "scattermapbox"
           }
          ],
          "scatterpolar": [
           {
            "marker": {
             "colorbar": {
              "outlinewidth": 0,
              "ticks": ""
             }
            },
            "type": "scatterpolar"
           }
          ],
          "scatterpolargl": [
           {
            "marker": {
             "colorbar": {
              "outlinewidth": 0,
              "ticks": ""
             }
            },
            "type": "scatterpolargl"
           }
          ],
          "scatterternary": [
           {
            "marker": {
             "colorbar": {
              "outlinewidth": 0,
              "ticks": ""
             }
            },
            "type": "scatterternary"
           }
          ],
          "surface": [
           {
            "colorbar": {
             "outlinewidth": 0,
             "ticks": ""
            },
            "colorscale": [
             [
              0,
              "#0d0887"
             ],
             [
              0.1111111111111111,
              "#46039f"
             ],
             [
              0.2222222222222222,
              "#7201a8"
             ],
             [
              0.3333333333333333,
              "#9c179e"
             ],
             [
              0.4444444444444444,
              "#bd3786"
             ],
             [
              0.5555555555555556,
              "#d8576b"
             ],
             [
              0.6666666666666666,
              "#ed7953"
             ],
             [
              0.7777777777777778,
              "#fb9f3a"
             ],
             [
              0.8888888888888888,
              "#fdca26"
             ],
             [
              1,
              "#f0f921"
             ]
            ],
            "type": "surface"
           }
          ],
          "table": [
           {
            "cells": {
             "fill": {
              "color": "#EBF0F8"
             },
             "line": {
              "color": "white"
             }
            },
            "header": {
             "fill": {
              "color": "#C8D4E3"
             },
             "line": {
              "color": "white"
             }
            },
            "type": "table"
           }
          ]
         },
         "layout": {
          "annotationdefaults": {
           "arrowcolor": "#2a3f5f",
           "arrowhead": 0,
           "arrowwidth": 1
          },
          "autotypenumbers": "strict",
          "coloraxis": {
           "colorbar": {
            "outlinewidth": 0,
            "ticks": ""
           }
          },
          "colorscale": {
           "diverging": [
            [
             0,
             "#8e0152"
            ],
            [
             0.1,
             "#c51b7d"
            ],
            [
             0.2,
             "#de77ae"
            ],
            [
             0.3,
             "#f1b6da"
            ],
            [
             0.4,
             "#fde0ef"
            ],
            [
             0.5,
             "#f7f7f7"
            ],
            [
             0.6,
             "#e6f5d0"
            ],
            [
             0.7,
             "#b8e186"
            ],
            [
             0.8,
             "#7fbc41"
            ],
            [
             0.9,
             "#4d9221"
            ],
            [
             1,
             "#276419"
            ]
           ],
           "sequential": [
            [
             0,
             "#0d0887"
            ],
            [
             0.1111111111111111,
             "#46039f"
            ],
            [
             0.2222222222222222,
             "#7201a8"
            ],
            [
             0.3333333333333333,
             "#9c179e"
            ],
            [
             0.4444444444444444,
             "#bd3786"
            ],
            [
             0.5555555555555556,
             "#d8576b"
            ],
            [
             0.6666666666666666,
             "#ed7953"
            ],
            [
             0.7777777777777778,
             "#fb9f3a"
            ],
            [
             0.8888888888888888,
             "#fdca26"
            ],
            [
             1,
             "#f0f921"
            ]
           ],
           "sequentialminus": [
            [
             0,
             "#0d0887"
            ],
            [
             0.1111111111111111,
             "#46039f"
            ],
            [
             0.2222222222222222,
             "#7201a8"
            ],
            [
             0.3333333333333333,
             "#9c179e"
            ],
            [
             0.4444444444444444,
             "#bd3786"
            ],
            [
             0.5555555555555556,
             "#d8576b"
            ],
            [
             0.6666666666666666,
             "#ed7953"
            ],
            [
             0.7777777777777778,
             "#fb9f3a"
            ],
            [
             0.8888888888888888,
             "#fdca26"
            ],
            [
             1,
             "#f0f921"
            ]
           ]
          },
          "colorway": [
           "#636efa",
           "#EF553B",
           "#00cc96",
           "#ab63fa",
           "#FFA15A",
           "#19d3f3",
           "#FF6692",
           "#B6E880",
           "#FF97FF",
           "#FECB52"
          ],
          "font": {
           "color": "#2a3f5f"
          },
          "geo": {
           "bgcolor": "white",
           "lakecolor": "white",
           "landcolor": "#E5ECF6",
           "showlakes": true,
           "showland": true,
           "subunitcolor": "white"
          },
          "hoverlabel": {
           "align": "left"
          },
          "hovermode": "closest",
          "mapbox": {
           "style": "light"
          },
          "paper_bgcolor": "white",
          "plot_bgcolor": "#E5ECF6",
          "polar": {
           "angularaxis": {
            "gridcolor": "white",
            "linecolor": "white",
            "ticks": ""
           },
           "bgcolor": "#E5ECF6",
           "radialaxis": {
            "gridcolor": "white",
            "linecolor": "white",
            "ticks": ""
           }
          },
          "scene": {
           "xaxis": {
            "backgroundcolor": "#E5ECF6",
            "gridcolor": "white",
            "gridwidth": 2,
            "linecolor": "white",
            "showbackground": true,
            "ticks": "",
            "zerolinecolor": "white"
           },
           "yaxis": {
            "backgroundcolor": "#E5ECF6",
            "gridcolor": "white",
            "gridwidth": 2,
            "linecolor": "white",
            "showbackground": true,
            "ticks": "",
            "zerolinecolor": "white"
           },
           "zaxis": {
            "backgroundcolor": "#E5ECF6",
            "gridcolor": "white",
            "gridwidth": 2,
            "linecolor": "white",
            "showbackground": true,
            "ticks": "",
            "zerolinecolor": "white"
           }
          },
          "shapedefaults": {
           "line": {
            "color": "#2a3f5f"
           }
          },
          "ternary": {
           "aaxis": {
            "gridcolor": "white",
            "linecolor": "white",
            "ticks": ""
           },
           "baxis": {
            "gridcolor": "white",
            "linecolor": "white",
            "ticks": ""
           },
           "bgcolor": "#E5ECF6",
           "caxis": {
            "gridcolor": "white",
            "linecolor": "white",
            "ticks": ""
           }
          },
          "title": {
           "x": 0.05
          },
          "xaxis": {
           "automargin": true,
           "gridcolor": "white",
           "linecolor": "white",
           "ticks": "",
           "title": {
            "standoff": 15
           },
           "zerolinecolor": "white",
           "zerolinewidth": 2
          },
          "yaxis": {
           "automargin": true,
           "gridcolor": "white",
           "linecolor": "white",
           "ticks": "",
           "title": {
            "standoff": 15
           },
           "zerolinecolor": "white",
           "zerolinewidth": 2
          }
         }
        },
        "title": {
         "text": "EXPENSES AS PERCENTAGE OF TOTAL REVENUE",
         "x": 0.5
        },
        "xaxis": {
         "anchor": "y",
         "domain": [
          0,
          0.94
         ]
        },
        "yaxis": {
         "anchor": "x",
         "domain": [
          0,
          1
         ]
        },
        "yaxis2": {
         "anchor": "x",
         "overlaying": "y",
         "side": "right"
        }
       }
      }
     },
     "metadata": {},
     "output_type": "display_data"
    }
   ],
   "source": [
    "fig1 = make_subplots(specs=[[{\"secondary_y\": True}]])\n",
    "fig1.update_layout(title=\"EXPENSES AS PERCENTAGE OF TOTAL REVENUE (dual axis)\", title_x=0.5)\n",
    "\n",
    "for i in income_stmt_items_exp:\n",
    "    if i in ['InterestExpense', 'ReconciledDepreciation', \n",
    "             'GeneralAndAdministrativeExpense', 'OtherGandA', \n",
    "             'SellingAndMarketingExpense', 'SellingGeneralAndAdministration']: \n",
    "        sec = True \n",
    "    else: \n",
    "        sec = False\n",
    "\n",
    "    fig1.add_trace(\n",
    "        go.Scatter(y=out_exp.loc[i], x=out_exp.columns, name=i),\n",
    "        secondary_y=sec,\n",
    "    )\n",
    "\n",
    "fig1.show()"
   ]
  }
 ],
 "metadata": {
  "kernelspec": {
   "display_name": ".venv",
   "language": "python",
   "name": "python3"
  },
  "language_info": {
   "codemirror_mode": {
    "name": "ipython",
    "version": 3
   },
   "file_extension": ".py",
   "mimetype": "text/x-python",
   "name": "python",
   "nbconvert_exporter": "python",
   "pygments_lexer": "ipython3",
   "version": "3.9.6"
  }
 },
 "nbformat": 4,
 "nbformat_minor": 2
}
